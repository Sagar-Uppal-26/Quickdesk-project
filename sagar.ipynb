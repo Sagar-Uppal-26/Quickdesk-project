{
 "cells": [
  {
   "cell_type": "code",
   "execution_count": null,
   "id": "5201009b-fbb5-4d99-a30b-3499ecc9e317",
   "metadata": {},
   "outputs": [],
   "source": []
  }
 ],
 "metadata": {
  "kernelspec": {
   "display_name": "",
   "name": ""
  },
  "language_info": {
   "name": ""
  }
 },
 "nbformat": 4,
 "nbformat_minor": 5
}
