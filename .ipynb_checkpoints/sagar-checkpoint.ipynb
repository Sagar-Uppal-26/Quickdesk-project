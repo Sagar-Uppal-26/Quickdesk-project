{
 "cells": [
  {
   "cell_type": "code",
   "execution_count": 2,
   "id": "5201009b-fbb5-4d99-a30b-3499ecc9e317",
   "metadata": {},
   "outputs": [],
   "source": [
    "import json\n",
    "import os\n",
    "from datetime import datetime"
   ]
  },
  {
   "cell_type": "code",
   "execution_count": 3,
   "id": "636e7d94-d60b-49ce-b95a-6edebaf59ef0",
   "metadata": {},
   "outputs": [],
   "source": [
    "TICKETS_FILE = \"tickets.json\""
   ]
  },
  {
   "cell_type": "code",
   "execution_count": 4,
   "id": "4a186fb1-1977-40a3-bde4-c92278f380a4",
   "metadata": {},
   "outputs": [],
   "source": [
    "class TicketManager:\n",
    "    def __init__(self, filename=TICKETS_FILE):\n",
    "        self.filename = filename\n",
    "        self.tickets = self.load_tickets()"
   ]
  },
  {
   "cell_type": "code",
   "execution_count": 5,
   "id": "b8b1078a-07fb-46d9-b423-b372b883dacc",
   "metadata": {},
   "outputs": [],
   "source": [
    "def load_tickets(self):\n",
    "        if not os.path.exists(self.filename):\n",
    "            return []\n",
    "        with open(self.filename, \"r\") as file:\n",
    "            try:\n",
    "                return json.load(file)\n",
    "            except json.JSONDecodeError:\n",
    "                # If file is corrupted or empty, return empty list\n",
    "                return []"
   ]
  },
  {
   "cell_type": "code",
   "execution_count": 6,
   "id": "a5226204-e8f9-4188-b68b-79033e47492a",
   "metadata": {},
   "outputs": [],
   "source": [
    "def save_tickets(self):\n",
    "        with open(self.filename, \"w\") as file:\n",
    "            json.dump(self.tickets, file, indent=2)"
   ]
  },
  {
   "cell_type": "code",
   "execution_count": 7,
   "id": "6cd665bd-6bd3-4b7c-bf55-dd1009ec45be",
   "metadata": {},
   "outputs": [],
   "source": [
    "def get_next_id(self):\n",
    "        if not self.tickets:\n",
    "            return 1\n",
    "        max_id = max(ticket[\"id\"] for ticket in self.tickets)\n",
    "        return max_id + 1"
   ]
  },
  {
   "cell_type": "code",
   "execution_count": 8,
   "id": "6d8805ba-fa67-4093-b531-caae8536c944",
   "metadata": {},
   "outputs": [],
   "source": [
    "def create_ticket(self, user, subject, description, category):\n",
    "        now_iso = datetime.now().isoformat()\n",
    "        ticket = {\n",
    "            \"id\": self.get_next_id(),\n",
    "            \"user\": user,\n",
    "            \"subject\": subject,\n",
    "            \"description\": description,\n",
    "            \"category\": category,\n",
    "            \"status\": \"Open\",\n",
    "            \"created_at\": now_iso,\n",
    "            \"updated_at\": now_iso,\n",
    "            \"comments\": []\n",
    "        }\n",
    "        self.tickets.append(ticket)\n",
    "        self.save_tickets()\n",
    "        return ticket"
   ]
  },
  {
   "cell_type": "code",
   "execution_count": 9,
   "id": "5dfba63c-7e24-4660-a439-bc1d2e3386e0",
   "metadata": {},
   "outputs": [],
   "source": [
    "def find_ticket_by_id(self, ticket_id):\n",
    "        for ticket in self.tickets:\n",
    "            if ticket[\"id\"] == ticket_id:\n",
    "                return ticket\n",
    "        return None"
   ]
  },
  {
   "cell_type": "code",
   "execution_count": 24,
   "id": "b09a213d-d7c5-493e-ac9c-e21f94c2be2a",
   "metadata": {},
   "outputs": [],
   "source": [
    "def update_ticket_status(self, ticket_id, new_status):\n",
    "        ticket = self.find_ticket_by_id(ticket_id)\n",
    "        if ticket:\n",
    "            ticket[\"status\"] = new_status\n",
    "            ticket[\"updated_at\"] = datetime.now().isoformat()\n",
    "            self.save_tickets()\n",
    "            return True\n",
    "        return False"
   ]
  },
  {
   "cell_type": "code",
   "execution_count": 25,
   "id": "36f98ac8-1710-4f8a-a4f5-063cfc0b619e",
   "metadata": {},
   "outputs": [],
   "source": [
    "def add_comment(self, ticket_id, author, message):\n",
    "        ticket = self.find_ticket_by_id(ticket_id)\n",
    "        if ticket:\n",
    "            comment = {\n",
    "                \"author\": author,\n",
    "                \"message\": message,\n",
    "                \"timestamp\": datetime.now().isoformat()\n",
    "            }\n",
    "            ticket[\"comments\"].append(comment)\n",
    "            ticket[\"updated_at\"] = datetime.now().isoformat()\n",
    "            self.save_tickets()\n",
    "            return True\n",
    "        return False"
   ]
  },
  {
   "cell_type": "code",
   "execution_count": 27,
   "id": "45a574e8-dfc3-442e-8dcc-e521f793209d",
   "metadata": {},
   "outputs": [],
   "source": [
    "def get_tickets_by_user(self, username):\n",
    "        return [ticket for ticket in self.tickets if ticket[\"user\"] == username]"
   ]
  },
  {
   "cell_type": "code",
   "execution_count": 28,
   "id": "2c08edf3-6569-4d26-aeba-2fa46060f795",
   "metadata": {},
   "outputs": [],
   "source": [
    "def filter_tickets(self, status=None, category=None):\n",
    "        filtered = self.tickets\n",
    "        if status:\n",
    "            filtered = [t for t in filtered if t[\"status\"].lower() == status.lower()]\n",
    "        if category:\n",
    "            filtered = [t for t in filtered if t[\"category\"].lower() == category.lower()]\n",
    "        return filtered"
   ]
  },
  {
   "cell_type": "code",
   "execution_count": null,
   "id": "e40caab6-ea1b-4afa-a91f-c6ac89a4ad07",
   "metadata": {},
   "outputs": [],
   "source": []
  }
 ],
 "metadata": {
  "kernelspec": {
   "display_name": "Python 3 (ipykernel)",
   "language": "python",
   "name": "python3"
  },
  "language_info": {
   "codemirror_mode": {
    "name": "ipython",
    "version": 3
   },
   "file_extension": ".py",
   "mimetype": "text/x-python",
   "name": "python",
   "nbconvert_exporter": "python",
   "pygments_lexer": "ipython3",
   "version": "3.12.9"
  }
 },
 "nbformat": 4,
 "nbformat_minor": 5
}
